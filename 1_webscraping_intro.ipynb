{
 "cells": [
  {
   "cell_type": "markdown",
   "metadata": {},
   "source": [
    "# Scraping the 'Books to Scrape' website\n",
    "### http://books.toscrape.com/\n",
    "\n",
    "Using the **requests** and **BeautifuSoup** modules to extract links from a webpage\n",
    "\n",
    "The **Books to Scrape** website is a test site which provides example content.\n",
    "\n",
    "First let’s use the **requests** module to get the HTML of the website’s main page.\n",
    "\n",
    "Place your cursor in the following block and select 'Run' from menu above."
   ]
  },
  {
   "cell_type": "code",
   "execution_count": null,
   "metadata": {},
   "outputs": [],
   "source": [
    "import requests\n",
    "\n",
    "url = \"http://books.toscrape.com/index.html\"\n",
    "\n",
    "result = requests.get(url)\n",
    "\n",
    "result.text[:1000] # this show the first 1000 characters of the result"
   ]
  },
  {
   "cell_type": "markdown",
   "metadata": {},
   "source": [
    "This looks pretty messy. We can tidy it up with the BeautifulSoup 'Prettify' function"
   ]
  },
  {
   "cell_type": "code",
   "execution_count": null,
   "metadata": {},
   "outputs": [],
   "source": [
    "from bs4 import BeautifulSoup\n",
    "soup = BeautifulSoup(result.text, 'html.parser')\n",
    "\n",
    "print(soup.prettify()[:1000])"
   ]
  },
  {
   "cell_type": "markdown",
   "metadata": {},
   "source": [
    "## Viewing the source code\n",
    "\n",
    "In your browser, go to http://books.toscrape.com/, right-click on the name of a product and click on inspect. This will show you the HTML part of the web page corresponding to this element.\n",
    "\n",
    "Note the structure of the HTML code:\n",
    "\n",
    "![html structure](structure.png \"html structure\")\n",
    "\n",
    "\n",
    "The information about this product is contained in an ‘article’ tag with the a class value ‘product_pod’. This seems to be a reliable location to extract product URLs.\n",
    "\n",
    "BeautifulSoup enables us to find those special ‘article’ tags. We can call the find() function in order to find the first occurence of this tag in the HTML:\n"
   ]
  },
  {
   "cell_type": "code",
   "execution_count": null,
   "metadata": {},
   "outputs": [],
   "source": [
    "soup.find(\"article\", class_ = \"product_pod\")"
   ]
  },
  {
   "cell_type": "markdown",
   "metadata": {},
   "source": [
    "\n",
    "We still have too much information.\n",
    "Let’s dive deeper in the tree by adding the other child tags:\n"
   ]
  },
  {
   "cell_type": "code",
   "execution_count": null,
   "metadata": {},
   "outputs": [],
   "source": [
    "soup.find(\"article\", class_ = \"product_pod\").div.a"
   ]
  },
  {
   "cell_type": "markdown",
   "metadata": {},
   "source": [
    "Much better! But we only need the URL contained in the ‘href’ value.\n",
    "We can get this by adding .get(“href”) to the previous instruction:"
   ]
  },
  {
   "cell_type": "code",
   "execution_count": null,
   "metadata": {},
   "outputs": [],
   "source": [
    "soup.find(\"article\", class_ = \"product_pod\").div.a.get('href')"
   ]
  },
  {
   "cell_type": "markdown",
   "metadata": {},
   "source": [
    "Now let’s get **all** the products URLs on the main web page at once using the findAll() function:"
   ]
  },
  {
   "cell_type": "code",
   "execution_count": null,
   "metadata": {},
   "outputs": [],
   "source": [
    "for x in soup.findAll(\"article\", class_ = \"product_pod\"):\n",
    "   \n",
    "    print (x.div.a.get('href'))"
   ]
  }
 ],
 "metadata": {
  "kernelspec": {
   "display_name": "Python 3",
   "language": "python",
   "name": "python3"
  },
  "language_info": {
   "codemirror_mode": {
    "name": "ipython",
    "version": 3
   },
   "file_extension": ".py",
   "mimetype": "text/x-python",
   "name": "python",
   "nbconvert_exporter": "python",
   "pygments_lexer": "ipython3",
   "version": "3.7.3"
  }
 },
 "nbformat": 4,
 "nbformat_minor": 2
}
