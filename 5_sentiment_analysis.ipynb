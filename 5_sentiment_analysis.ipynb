{
 "cells": [
  {
   "cell_type": "markdown",
   "metadata": {},
   "source": [
    "## Sentiment Analysis\n",
    "\n",
    "Here is an example of how you can perform Sentiment Analysis on the CSV file of articles you have scraped. This code will analyse each article and append 2 new columns to each row.\n",
    "\n",
    "1. A polarity score from -0.1 to 1.0 providing a numerical evaluation.\n",
    "2. A text-based evaluation indicating whether the article is Positive, Negative or Neutral\n",
    "\n",
    "This example assumes the name of the input file is '**guardian.csv**' but you can change this to another preferred file. Similarly, the name of the output file can be changed."
   ]
  },
  {
   "cell_type": "code",
   "execution_count": null,
   "metadata": {},
   "outputs": [],
   "source": [
    "# Run this code block the first time you use this Notebook\n",
    "!pip install textblob"
   ]
  },
  {
   "cell_type": "code",
   "execution_count": null,
   "metadata": {},
   "outputs": [],
   "source": [
    "import csv\n",
    "from textblob import TextBlob\n",
    "\n",
    "in_file = \"guardian.csv\"\n",
    "\n",
    "out_file = \"guardian-sentiment.csv\"\n",
    "\n",
    "# Create file to write our results to\n",
    "sntArticle = csv.writer(open(out_file, \"w\", newline='', encoding='utf-8'))\n",
    "\n",
    "# Add column titles to the first row\n",
    "sntArticle.writerow(['DateTime', 'Title', 'URL', 'Article Text', 'polarity', 'sentiment' ])\n",
    "\n",
    "# Open our articles csv file\n",
    "with open(in_file,  mode='r', newline='', encoding='utf-8') as infile:\n",
    "    reader = csv.reader(infile)\n",
    "    next(reader, None)  # skip the existing headers\n",
    "    articlecount = 1;  # establish a counter\n",
    "    for row in reader:\n",
    "        date_time = row[0]\n",
    "        title = row[1]\n",
    "        url = row[2]\n",
    "        article_text = row[3]\n",
    "\n",
    "        blob = TextBlob(article_text) #pass the article text to Textblob\n",
    "\n",
    "        polarity = (blob.sentiment.polarity) #get a polarity score\n",
    "\n",
    "        # Get the overall sentiment\n",
    "        if polarity > 0:\n",
    "          sentiment = \"positive\"\n",
    "        elif polarity < 0:\n",
    "          sentiment = \"negative\"\n",
    "        elif polarity == 0.0:\n",
    "          sentiment = \"neutral\"\n",
    "\n",
    "        #print(\"Article \" + str(articlecount) + \" is \" + sentiment)\n",
    "        articlecount = articlecount + 1\n",
    "\n",
    "        #write data to CSV file\n",
    "        sntArticle.writerow(\n",
    "            [date_time, title, url, article_text, polarity, sentiment])\n",
    "\n",
    "    print (str(articlecount) + ' articles analysed for sentiment - results written to ' + out_file)"
   ]
  },
  {
   "cell_type": "code",
   "execution_count": null,
   "metadata": {},
   "outputs": [],
   "source": []
  }
 ],
 "metadata": {
  "kernelspec": {
   "display_name": "Python 3",
   "language": "python",
   "name": "python3"
  },
  "language_info": {
   "codemirror_mode": {
    "name": "ipython",
    "version": 3
   },
   "file_extension": ".py",
   "mimetype": "text/x-python",
   "name": "python",
   "nbconvert_exporter": "python",
   "pygments_lexer": "ipython3",
   "version": "3.7.6"
  }
 },
 "nbformat": 4,
 "nbformat_minor": 4
}
